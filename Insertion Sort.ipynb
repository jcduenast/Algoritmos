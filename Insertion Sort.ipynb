{
 "cells": [
  {
   "cell_type": "markdown",
   "metadata": {},
   "source": [
    "# Insertion Sort"
   ]
  },
  {
   "cell_type": "markdown",
   "metadata": {},
   "source": [
    "Juan Camilo Dueñas Torres\n",
    "\n",
    "COD 25481103 - C.C. 1032479459"
   ]
  },
  {
   "cell_type": "code",
   "execution_count": 83,
   "metadata": {},
   "outputs": [],
   "source": [
    "import numpy as np\n",
    "from matplotlib import pyplot as plt\n",
    "import itertools"
   ]
  },
  {
   "cell_type": "code",
   "execution_count": 84,
   "metadata": {},
   "outputs": [],
   "source": [
    "def getPermutations (N):  # Se genera un vector de tuplas con todas las posibles permutaciones\n",
    "    A = []\n",
    "    for i in range(1, N+1):\n",
    "        A.append(i)\n",
    "    return itertools.permutations(A)  # Retorna un arreglo de tuplas\n",
    "\n",
    "def insertionSortLines (T):\n",
    "    A = []           # A es la lista auxiliar de la permutación a organizar\n",
    "    for num in T:  # se debe cambiar de tupla a un arreglo para poder editarlo\n",
    "        A.append(num)\n",
    "    \n",
    "    n = 0  # Inicio de conteo de pasos (líneas de código)\n",
    "    for j in range(1, len(A)):\n",
    "        x = A[j]           # x valor en posición j\n",
    "        i = j-1            # i posición anterior a j, es decir anterior a x\n",
    "        while (x<A[i]) & (0<=i):\n",
    "            A[i+1] = A[i]\n",
    "            i = i-1\n",
    "            n += 3         # Una verificación y dos instrucciones en cada ciclo\n",
    "        n += 1\n",
    "        A[i+1] = x\n",
    "        n += 4             # Una verificación y tres asignaciones en cada ciclo\n",
    "    n += 1\n",
    "    return n\n",
    "\n",
    "def insertionSortComparaciones (T):\n",
    "    A = []\n",
    "    for num in T:\n",
    "        A.append(num)\n",
    "    \n",
    "    n = 0                  # Inicio de conteo de pasos (comparaciones)\n",
    "    for j in range(1, len(A)):\n",
    "        x = A[j]\n",
    "        i = j-1\n",
    "        while (x<A[i]) & (0<=i):\n",
    "            A[i+1] = A[i]\n",
    "            i = i-1\n",
    "            n += 1         # Una comparación cada While\n",
    "        A[i+1] = x\n",
    "        if i!=0:\n",
    "            n += 1\n",
    "    return n\n",
    "\n",
    "def insertionSortIntercambios (T):\n",
    "    A = []\n",
    "    for num in T:\n",
    "        A.append(num)\n",
    "    \n",
    "    n = 0                  # Inicio de conteo de pasos (cambios)\n",
    "    for j in range(1, len(A)):\n",
    "        x = A[j]\n",
    "        i = j-1\n",
    "        while (x<A[i]) & (0<=i):\n",
    "            A[i+1] = A[i]\n",
    "            i = i-1\n",
    "            n += 1         # Un cambio\n",
    "        A[i+1] = x\n",
    "    return n\n",
    "\n",
    "def insertionSortPreguntasWhile (T):\n",
    "    A = []\n",
    "    for num in T:\n",
    "        A.append(num)\n",
    "    \n",
    "    n = 0                  # Inicio de conteo de pasos (cambios)\n",
    "    for j in range(1, len(A)):\n",
    "        x = A[j]\n",
    "        i = j-1\n",
    "        while (x<A[i]) & (0<=i):\n",
    "            A[i+1] = A[i]\n",
    "            i = i-1\n",
    "            n += 1         # Un cambio\n",
    "        A[i+1] = x\n",
    "        n += 1\n",
    "    return n"
   ]
  },
  {
   "cell_type": "code",
   "execution_count": 85,
   "metadata": {},
   "outputs": [],
   "source": [
    "num = 10\n",
    "permutaciones = getPermutations(num)\n",
    "\n",
    "n_steps = []\n",
    "for tupla in permutaciones:\n",
    "    n_steps.append(insertionSortLines(tupla))"
   ]
  },
  {
   "cell_type": "code",
   "execution_count": 86,
   "metadata": {},
   "outputs": [],
   "source": [
    "permutaciones = getPermutations(num)\n",
    "n_compare = []\n",
    "for tupla in permutaciones:\n",
    "    n_compare.append(insertionSortComparaciones(tupla))"
   ]
  },
  {
   "cell_type": "code",
   "execution_count": 87,
   "metadata": {},
   "outputs": [],
   "source": [
    "permutaciones = getPermutations(num)\n",
    "n_swaps = []\n",
    "for tupla in permutaciones:\n",
    "    n_swaps.append(insertionSortIntercambios(tupla))"
   ]
  },
  {
   "cell_type": "code",
   "execution_count": 88,
   "metadata": {},
   "outputs": [],
   "source": [
    "permutaciones = getPermutations(num)\n",
    "n_q_while = []\n",
    "for tupla in permutaciones:\n",
    "    n_q_while.append(insertionSortPreguntasWhile(tupla))"
   ]
  },
  {
   "cell_type": "code",
   "execution_count": 89,
   "metadata": {},
   "outputs": [
    {
     "name": "stdout",
     "output_type": "stream",
     "text": [
      "Número de líneas de código ejecutadas con permutaciones de 10 elementos\n",
      "Promedio:  113.5\n"
     ]
    },
    {
     "data": {
      "image/png": "[encoded data removed]",
      "text/plain": [
       "<Figure size 432x288 with 1 Axes>"
      ]
     },
     "metadata": {},
     "output_type": "display_data"
    },
    {
     "name": "stdout",
     "output_type": "stream",
     "text": [
      "Número de comparaciones realizadas con permutaciones de 10 elementos\n",
      "Promedio:  29.571031746031746\n"
     ]
    },
    {
     "data": {
      "image/png": "[encoded data removed]",
      "text/plain": [
       "<Figure size 432x288 with 1 Axes>"
      ]
     },
     "metadata": {},
     "output_type": "display_data"
    },
    {
     "name": "stdout",
     "output_type": "stream",
     "text": [
      "Número de cambios realizados con permutaciones de 10 elementos\n",
      "Promedio:  22.5\n"
     ]
    },
    {
     "data": {
      "image/png": "[encoded data removed]",
      "text/plain": [
       "<Figure size 432x288 with 1 Axes>"
      ]
     },
     "metadata": {},
     "output_type": "display_data"
    },
    {
     "name": "stdout",
     "output_type": "stream",
     "text": [
      "Número de preguntas en el while con permutaciones de 10 elementos\n",
      "Promedio:  31.5\n"
     ]
    },
    {
     "data": {
      "image/png": "[encoded data removed]",
      "text/plain": [
       "<Figure size 432x288 with 1 Axes>"
      ]
     },
     "metadata": {},
     "output_type": "display_data"
    }
   ],
   "source": [
    "print (\"Número de líneas de código ejecutadas con permutaciones de {0} elementos\".format(num))\n",
    "print (\"Promedio: \", np.mean(n_steps))\n",
    "plt.figure()\n",
    "plt.hist(n_steps, bins=46)\n",
    "plt.xlabel('Tiempo (líneas de código ejecutadas)')\n",
    "plt.ylabel('Frecuencia')\n",
    "plt.show()\n",
    "\n",
    "print (\"Número de comparaciones realizadas con permutaciones de {0} elementos\".format(num))\n",
    "print (\"Promedio: \", np.mean(n_compare))\n",
    "plt.figure()\n",
    "plt.hist(n_compare, bins=46)\n",
    "plt.xlabel('Tiempo (comparaciones realizadas)')\n",
    "plt.ylabel('Frecuencia')\n",
    "plt.show()\n",
    "\n",
    "print (\"Número de cambios realizados con permutaciones de {0} elementos\".format(num))\n",
    "print (\"Promedio: \", np.mean(n_swaps))\n",
    "plt.figure()\n",
    "plt.hist(n_swaps, bins=46)\n",
    "plt.xlabel('Tiempo (cambios realizados)')\n",
    "plt.ylabel('Frecuencia')\n",
    "plt.show()\n",
    "\n",
    "print (\"Número de preguntas en el while con permutaciones de {0} elementos\".format(num))\n",
    "print (\"Promedio: \", np.mean(n_q_while))\n",
    "plt.figure()\n",
    "plt.hist(n_q_while, bins=46)\n",
    "plt.xlabel('Tiempo (preguntas en el while)')\n",
    "plt.ylabel('Frecuencia')\n",
    "plt.show()"
   ]
  },
  {
   "cell_type": "markdown",
   "metadata": {},
   "source": [
    "Implementación de permutaciones sin itertools.\n",
    "Función recursiva para generar permutaciones basado en el código en C escrito por Daniel Jimenez http://www.cs.rutgers.edu/~djimenez para su clase de algoritmos de 1998 en The University of Texas en San Antonio. El código está disponible en http://camino.rutgers.edu/ut/utsa/cs3343/index.html en Lecture 25: Generating Permutations and Combinations"
   ]
  },
  {
   "cell_type": "code",
   "execution_count": 90,
   "metadata": {},
   "outputs": [],
   "source": [
    "def swap (v, i, j):\n",
    "    t = v[i]\n",
    "    v[i] = v[j]\n",
    "    v[j] = t\n",
    "    return\n",
    "\n",
    "def perm_lines (v, i, n, data):\n",
    "    j = 0\n",
    "    k = 0\n",
    "    l = 0\n",
    "    \n",
    "    if (i==n):\n",
    "        k = insertionSortLines(v)\n",
    "        data.append(k)\n",
    "    else:\n",
    "        for j in range (i, n+1):\n",
    "            swap (v, i, j)\n",
    "            perm_lines (v, i+1, n, data)\n",
    "            swap (v, i, j)\n",
    "    return\n",
    "\n",
    "def perm_comp (v, i, n, data):\n",
    "    j = 0\n",
    "    k = 0\n",
    "    l = 0\n",
    "    \n",
    "    if (i==n):\n",
    "        k = insertionSortComparaciones(v)\n",
    "        data.append(k)\n",
    "    else:\n",
    "        for j in range (i, n+1):\n",
    "            swap (v, i, j)\n",
    "            perm_comp (v, i+1, n, data)\n",
    "            swap (v, i, j)\n",
    "    return\n",
    "\n",
    "def perm_chan (v, i, n, data):\n",
    "    j = 0\n",
    "    k = 0\n",
    "    l = 0\n",
    "    \n",
    "    if (i==n):\n",
    "        k = insertionSortIntercambios(v)\n",
    "        data.append(k)\n",
    "    else:\n",
    "        for j in range (i, n+1):\n",
    "            swap (v, i, j)\n",
    "            perm_chan (v, i+1, n, data)\n",
    "            swap (v, i, j)\n",
    "    return\n",
    "\n",
    "def perm_q_wh (v, i, n, data):\n",
    "    j = 0\n",
    "    k = 0\n",
    "    l = 0\n",
    "    \n",
    "    if (i==n):\n",
    "        k = insertionSortPreguntasWhile(v)\n",
    "        data.append(k)\n",
    "    else:\n",
    "        for j in range (i, n+1):\n",
    "            swap (v, i, j)\n",
    "            perm_q_wh (v, i+1, n, data)\n",
    "            swap (v, i, j)\n",
    "    return\n",
    "\n",
    "def gen_vect(n):\n",
    "    arr = []\n",
    "    for i in range(0, n):\n",
    "        arr.append(i+1)\n",
    "    return arr"
   ]
  },
  {
   "cell_type": "code",
   "execution_count": 96,
   "metadata": {},
   "outputs": [
    {
     "name": "stderr",
     "output_type": "stream",
     "text": [
      "IOPub data rate exceeded.\n",
      "The notebook server will temporarily stop sending output\n",
      "to the client in order to avoid crashing it.\n",
      "To change this limit, set the config variable\n",
      "`--NotebookApp.iopub_data_rate_limit`.\n",
      "\n",
      "Current values:\n",
      "NotebookApp.iopub_data_rate_limit=1000000.0 (bytes/sec)\n",
      "NotebookApp.rate_limit_window=3.0 (secs)\n",
      "\n"
     ]
    }
   ],
   "source": [
    "num = 10\n",
    "data_lines = []\n",
    "arr = gen_vect(num)\n",
    "perm_lines(arr, 0, len(arr)-1, data_lines)\n",
    "print(data_lines)"
   ]
  },
  {
   "cell_type": "code",
   "execution_count": 97,
   "metadata": {},
   "outputs": [
    {
     "name": "stderr",
     "output_type": "stream",
     "text": [
      "IOPub data rate exceeded.\n",
      "The notebook server will temporarily stop sending output\n",
      "to the client in order to avoid crashing it.\n",
      "To change this limit, set the config variable\n",
      "`--NotebookApp.iopub_data_rate_limit`.\n",
      "\n",
      "Current values:\n",
      "NotebookApp.iopub_data_rate_limit=1000000.0 (bytes/sec)\n",
      "NotebookApp.rate_limit_window=3.0 (secs)\n",
      "\n"
     ]
    }
   ],
   "source": [
    "data_comp = []\n",
    "arr = gen_vect(num)\n",
    "perm_comp(arr, 0, len(arr)-1, data_comp)\n",
    "print(data_comp)"
   ]
  },
  {
   "cell_type": "code",
   "execution_count": 98,
   "metadata": {},
   "outputs": [
    {
     "name": "stderr",
     "output_type": "stream",
     "text": [
      "IOPub data rate exceeded.\n",
      "The notebook server will temporarily stop sending output\n",
      "to the client in order to avoid crashing it.\n",
      "To change this limit, set the config variable\n",
      "`--NotebookApp.iopub_data_rate_limit`.\n",
      "\n",
      "Current values:\n",
      "NotebookApp.iopub_data_rate_limit=1000000.0 (bytes/sec)\n",
      "NotebookApp.rate_limit_window=3.0 (secs)\n",
      "\n"
     ]
    }
   ],
   "source": [
    "data_chan = []\n",
    "arr = gen_vect(num)\n",
    "perm_chan(arr, 0, len(arr)-1, data_chan)\n",
    "print(data_chan)"
   ]
  },
  {
   "cell_type": "code",
   "execution_count": 99,
   "metadata": {},
   "outputs": [
    {
     "name": "stderr",
     "output_type": "stream",
     "text": [
      "IOPub data rate exceeded.\n",
      "The notebook server will temporarily stop sending output\n",
      "to the client in order to avoid crashing it.\n",
      "To change this limit, set the config variable\n",
      "`--NotebookApp.iopub_data_rate_limit`.\n",
      "\n",
      "Current values:\n",
      "NotebookApp.iopub_data_rate_limit=1000000.0 (bytes/sec)\n",
      "NotebookApp.rate_limit_window=3.0 (secs)\n",
      "\n"
     ]
    }
   ],
   "source": [
    "data_q_wh = []\n",
    "arr = gen_vect(num)\n",
    "perm_q_wh(arr, 0, len(arr)-1, data_q_wh)\n",
    "print(data_q_wh)"
   ]
  },
  {
   "cell_type": "code",
   "execution_count": 100,
   "metadata": {},
   "outputs": [
    {
     "name": "stdout",
     "output_type": "stream",
     "text": [
      "Número de líneas de código ejecutadas con permutaciones de 10 elementos\n"
     ]
    },
    {
     "data": {
      "image/png": "[encoded data removed]",
      "text/plain": [
       "<Figure size 432x288 with 1 Axes>"
      ]
     },
     "metadata": {},
     "output_type": "display_data"
    },
    {
     "name": "stdout",
     "output_type": "stream",
     "text": [
      "Número de comparaciones realizadas con permutaciones de 10 elementos\n"
     ]
    },
    {
     "data": {
      "image/png": "[encoded data removed]",
      "text/plain": [
       "<Figure size 432x288 with 1 Axes>"
      ]
     },
     "metadata": {},
     "output_type": "display_data"
    },
    {
     "name": "stdout",
     "output_type": "stream",
     "text": [
      "Número de cambios realizados con permutaciones de 10 elementos\n"
     ]
    },
    {
     "data": {
      "image/png": "[encoded data removed]",
      "text/plain": [
       "<Figure size 432x288 with 1 Axes>"
      ]
     },
     "metadata": {},
     "output_type": "display_data"
    },
    {
     "name": "stdout",
     "output_type": "stream",
     "text": [
      "Número de preguntas en el while con permutaciones de 10 elementos\n"
     ]
    },
    {
     "data": {
      "image/png": "[encoded data removed]",
      "text/plain": [
       "<Figure size 432x288 with 1 Axes>"
      ]
     },
     "metadata": {},
     "output_type": "display_data"
    }
   ],
   "source": [
    "print (\"Número de líneas de código ejecutadas con permutaciones de {0} elementos\".format(num))\n",
    "plt.figure()\n",
    "plt.hist(data_lines, bins=46)\n",
    "plt.xlabel('Tiempo (líneas de código ejecutadas)')\n",
    "plt.ylabel('Frecuencia')\n",
    "plt.show()\n",
    "\n",
    "print (\"Número de comparaciones realizadas con permutaciones de {0} elementos\".format(num))\n",
    "plt.figure()\n",
    "plt.hist(data_comp, bins=46)\n",
    "plt.xlabel('Tiempo (comparaciones realizadas)')\n",
    "plt.ylabel('Frecuencia')\n",
    "plt.show()\n",
    "\n",
    "print (\"Número de cambios realizados con permutaciones de {0} elementos\".format(num))\n",
    "plt.figure()\n",
    "plt.hist(data_chan, bins=46)\n",
    "plt.xlabel('Tiempo (cambios realizados)')\n",
    "plt.ylabel('Frecuencia')\n",
    "plt.show()\n",
    "\n",
    "print (\"Número de preguntas en el while con permutaciones de {0} elementos\".format(num))\n",
    "plt.figure()\n",
    "plt.hist(data_q_wh, bins=46)\n",
    "plt.xlabel('Tiempo (preguntas en el while)')\n",
    "plt.ylabel('Frecuencia')\n",
    "plt.show()"
   ]
  }
 ],
 "metadata": {
  "kernelspec": {
   "display_name": "Python 3",
   "language": "python",
   "name": "python3"
  },
  "language_info": {
   "codemirror_mode": {
    "name": "ipython",
    "version": 3
   },
   "file_extension": ".py",
   "mimetype": "text/x-python",
   "name": "python",
   "nbconvert_exporter": "python",
   "pygments_lexer": "ipython3",
   "version": "3.6.5"
  }
 },
 "nbformat": 4,
 "nbformat_minor": 2
}
